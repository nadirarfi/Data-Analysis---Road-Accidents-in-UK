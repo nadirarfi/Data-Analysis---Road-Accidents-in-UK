{
 "cells": [
  {
   "cell_type": "code",
   "execution_count": 19,
   "id": "735ff75f",
   "metadata": {},
   "outputs": [],
   "source": [
    "#!pip install lightgbm"
   ]
  },
  {
   "cell_type": "code",
   "execution_count": 20,
   "id": "a7bb5614",
   "metadata": {},
   "outputs": [],
   "source": [
    "import os\n",
    "import numpy as np\n",
    "import pandas as pd\n",
    "from matplotlib import pyplot as plt\n",
    "import seaborn as sns\n",
    "\n",
    "from sklearn.model_selection import train_test_split\n",
    "from sklearn.preprocessing import LabelEncoder\n",
    "from sklearn.preprocessing import OneHotEncoder\n",
    "from sklearn.metrics import classification_report, f1_score, accuracy_score\n",
    "from sklearn.metrics import confusion_matrix\n",
    "from sklearn.preprocessing import StandardScaler\n",
    "\n",
    "from sklearn.metrics import accuracy_score, f1_score, precision_score, recall_score, roc_auc_score, average_precision_score\n",
    "\n",
    "from sklearn.neural_network import MLPClassifier\n",
    "from sklearn.neighbors import KNeighborsClassifier\n",
    "from sklearn.svm import SVC, LinearSVC\n",
    "from sklearn.gaussian_process import GaussianProcessClassifier\n",
    "from sklearn.ensemble import GradientBoostingClassifier\n",
    "from sklearn.gaussian_process.kernels import RBF\n",
    "from sklearn.tree import DecisionTreeClassifier\n",
    "from sklearn.ensemble import ExtraTreesClassifier\n",
    "from sklearn.ensemble import RandomForestClassifier, AdaBoostClassifier\n",
    "from sklearn.naive_bayes import GaussianNB\n",
    "from sklearn.discriminant_analysis import QuadraticDiscriminantAnalysis\n",
    "from sklearn.linear_model import SGDClassifier, LogisticRegression\n",
    "from lightgbm import LGBMClassifier\n",
    "from xgboost import XGBClassifier"
   ]
  },
  {
   "cell_type": "code",
   "execution_count": 21,
   "id": "67376b80",
   "metadata": {},
   "outputs": [],
   "source": [
    "def create_folder(folder_path):\n",
    "    \"\"\"\n",
    "    Check whether the specified path exists or not\n",
    "    Create a new directory if it does not exist \n",
    "    \"\"\"\n",
    "    isExist = os.path.exists(folder_path)\n",
    "    if not isExist:\n",
    "        os.makedirs(folder_path)\n",
    "path = \"./results/3_machine_learning/\""
   ]
  },
  {
   "cell_type": "code",
   "execution_count": 22,
   "id": "f258dfa5",
   "metadata": {},
   "outputs": [],
   "source": [
    "class Classifier:\n",
    "    \n",
    "    def __init__(self, name, clf, X_train, y_train, X_test, y_test):\n",
    "        self.clf = clf\n",
    "        self.name = name\n",
    "        self.X_train = X_train\n",
    "        self.y_train = y_train\n",
    "        self.X_test = X_test\n",
    "        self.y_test = y_test        \n",
    "    \n",
    "    def run_classification(self):\n",
    "        self.clf.fit(self.X_train, self.y_train)\n",
    "        self.y_pred = self.clf.predict(self.X_test)\n",
    "        self.report = pd.DataFrame(classification_report(self.y_test, self.y_pred, output_dict=True))\n",
    "        self.cf_matrix = pd.DataFrame(confusion_matrix(self.y_test, self.y_pred))\n",
    "        self.accuracy = accuracy_score(self.y_test, self.y_pred)\n",
    "        print(self.cf_matrix)\n",
    "        print(self.report)\n",
    "        print(\"Accuracy: %.2f%%\" % (self.accuracy * 100.0))\n",
    "        self.results = {\n",
    "            \"classifier\": self.name,\n",
    "            \"average precision\": average_precision_score(self.y_test, self.y_pred),\n",
    "            \"precision\": precision_score(self.y_test, self.y_pred),\n",
    "            \"recall\": recall_score(self.y_test, self.y_pred),\n",
    "            \"accuracy\": accuracy_score(self.y_test, self.y_pred),            \n",
    "            \"f1 score\": f1_score(self.y_test, self.y_pred),\n",
    "            \"roc_auc\": roc_auc_score(self.y_test, self.y_pred)\n",
    "        }\n",
    "        self.save_results()\n",
    "    \n",
    "    def save_results(self):\n",
    "        folder_path = \"./results/3_machine_learning/{}/{}/\".format(\"testing_models\", self.name)\n",
    "        create_folder(folder_path)\n",
    "        self.report = pd.DataFrame(classification_report(self.y_test, self.y_pred, output_dict=True))\n",
    "        self.report.to_csv(folder_path + \"classification_report.csv\")\n",
    "        self.cf_matrix.to_csv(folder_path + \"cf_matrix.csv\")\n",
    "        sns_plot = sns.heatmap(self.cf_matrix/np.sum(self.cf_matrix), annot=True, fmt='.2%', cmap='Blues')\n",
    "        fig = sns_plot.get_figure()\n",
    "        fig.savefig(\"./results/3_machine_learning/{}/{}/_cf_matrix.png\".format(\"testing_models\", self.name))\n",
    "        plt.clf()\n",
    "        \n",
    "        \n",
    "models = {\n",
    "    \"KNC\": KNeighborsClassifier(2),\n",
    "    \"GradBoost\": GradientBoostingClassifier(n_estimators=100, learning_rate=1.0),\n",
    "    \"LR\": LogisticRegression(),\n",
    "    \"XGBoost\": XGBClassifier(),\n",
    "    \"AdaBoost\": AdaBoostClassifier(n_estimators=100),\n",
    "    \"DT\": DecisionTreeClassifier(),\n",
    "    \"NB\": GaussianNB(),\n",
    "    \"SGD\": SGDClassifier(loss=\"hinge\", penalty=\"l2\"),\n",
    "    \"LGBM\": LGBMClassifier(max_depth=10, num_leaves=246, n_estimators=380, min_data_in_leaf=20),\n",
    "    \"SVM\": LinearSVC(),\n",
    "    \"RF\": RandomForestClassifier(bootstrap=True,\n",
    "                class_weight=\"balanced_subsample\", \n",
    "                criterion='gini',\n",
    "                max_depth=8, max_features='auto', max_leaf_nodes=None,\n",
    "                min_impurity_decrease=0.0, min_impurity_split=None,\n",
    "                min_samples_leaf=4, min_samples_split=10,\n",
    "                min_weight_fraction_leaf=0.0, n_estimators=300,\n",
    "                oob_score=False,\n",
    "                random_state=35,\n",
    "                verbose=0, warm_start=False)\n",
    "}\n",
    "        "
   ]
  },
  {
   "cell_type": "code",
   "execution_count": 23,
   "id": "d01c1349",
   "metadata": {},
   "outputs": [],
   "source": [
    "df = pd.read_csv(\"./results/0_data_cleaning/dataset.csv\")\n",
    "#df =  pd.read_csv(\"./train_dataset.csv\")\n",
    "grp = df.groupby(\"accident_severity\")\n",
    "df_serious = grp.get_group(\"Serious\")\n",
    "df_slight = grp.get_group(\"Slight\")\n",
    "df = pd.concat([df_serious.sample(20000), df_slight.sample(21000)])\n",
    "df = df.drop(columns=[\"id\"])\n",
    "\n",
    "X = df.drop('accident_severity',axis=1)\n",
    "y = df['accident_severity'].replace(['Fatal'], 'Serious')\n",
    "\n",
    "y_encoded = LabelEncoder().fit_transform(y)\n",
    "X_encoded = X.copy()\n",
    "for col in X.columns:\n",
    "    if X[col].dtype == np.dtype('O'):\n",
    "        X_encoded[col] = LabelEncoder().fit_transform(X[col])\n",
    "    if X[col].dtype == np.dtype('int64') or X[col].dtype == np.dtype('float64'):\n",
    "        X_encoded[col] = StandardScaler().fit_transform(X[col].values.reshape(-1,1))\n",
    "\n",
    "X_train, X_test, y_train, y_test = train_test_split(X_encoded, y_encoded, test_size=0.2, random_state=1, stratify=y_encoded)"
   ]
  },
  {
   "cell_type": "code",
   "execution_count": 24,
   "id": "a77ce141",
   "metadata": {},
   "outputs": [
    {
     "data": {
      "text/plain": [
       "Index(['year', 'month', 'hour', '1st_road_class', 'carriageway_hazards',\n",
       "       'junction_control', 'day', 'junction_detail', 'light_conditions',\n",
       "       'road_surface_conditions', 'road_type', 'special_conditions_at_site',\n",
       "       'speed_limit', 'time', 'urban_or_rural_area', 'weather_conditions',\n",
       "       'latitude', 'longitude', 'number_of_casualties', 'number_of_vehicles',\n",
       "       'pedestrian_crossing-human_control',\n",
       "       'pedestrian_crossing-physical_facilities'],\n",
       "      dtype='object')"
      ]
     },
     "execution_count": 24,
     "metadata": {},
     "output_type": "execute_result"
    }
   ],
   "source": [
    "X.columns"
   ]
  },
  {
   "cell_type": "code",
   "execution_count": 25,
   "id": "edb21287",
   "metadata": {},
   "outputs": [
    {
     "name": "stdout",
     "output_type": "stream",
     "text": [
      "      0     1\n",
      "0  2456  1544\n",
      "1  1611  2589\n",
      "                     0            1  accuracy    macro avg  weighted avg\n",
      "precision     0.603885     0.626421  0.615244     0.615153      0.615428\n",
      "recall        0.614000     0.616429  0.615244     0.615214      0.615244\n",
      "f1-score      0.608900     0.621385  0.615244     0.615143      0.615295\n",
      "support    4000.000000  4200.000000  0.615244  8200.000000   8200.000000\n",
      "Accuracy: 61.52%\n"
     ]
    },
    {
     "data": {
      "text/plain": [
       "<Figure size 432x288 with 0 Axes>"
      ]
     },
     "metadata": {},
     "output_type": "display_data"
    }
   ],
   "source": [
    "RF = Classifier(\"RF\", models[\"RF\"], X_train, y_train, X_test, y_test)\n",
    "RF.run_classification()"
   ]
  },
  {
   "cell_type": "code",
   "execution_count": 26,
   "id": "214d214e",
   "metadata": {},
   "outputs": [
    {
     "data": {
      "image/png": "[encoded data removed]",
      "text/plain": [
       "<Figure size 720x720 with 1 Axes>"
      ]
     },
     "metadata": {
      "needs_background": "light"
     },
     "output_type": "display_data"
    }
   ],
   "source": [
    "feature_importances = pd.DataFrame([{feature: importance for feature, importance in zip(X.columns, RF.clf.feature_importances_)}])\n",
    "feature_importances = feature_importances.T.sort_values(by=0, ascending=False).rename(columns={0:\"importance_value\"})\n",
    "feature_importances[\"importance_value\"]\n",
    "\n",
    "# Increase the width\n",
    "plt.figure(figsize=(10,10))\n",
    "plt.barh(feature_importances.index, feature_importances.importance_value)\n",
    "plt.xticks(rotation=90)\n",
    "plt.tight_layout()\n",
    "plt.savefig(path + \"RF_first_feature_importance.png\")\n"
   ]
  },
  {
   "cell_type": "markdown",
   "id": "3747f17d",
   "metadata": {},
   "source": [
    "#### It is clear that number of casualties and vehicles will give us information about the accident severity ultimately, however in practical cases where we want to actually predict the severity, such information would not be available and it would not make sense to you them as prediction factors, hence we drop them then train our model again."
   ]
  },
  {
   "cell_type": "code",
   "execution_count": 27,
   "id": "ea18ecfd",
   "metadata": {},
   "outputs": [],
   "source": [
    "df = pd.read_csv(\"./results/0_data_cleaning/dataset.csv\")\n",
    "grp = df.groupby(\"accident_severity\")\n",
    "df_serious = grp.get_group(\"Serious\")\n",
    "df_slight = grp.get_group(\"Slight\")\n",
    "df = pd.concat([df_serious.sample(20000), df_slight.sample(21000)])\n",
    "df = df.drop(columns=[\"id\", \"number_of_casualties\", \"number_of_vehicles\"])\n",
    "\n",
    "X = df.drop('accident_severity',axis=1)\n",
    "y = df['accident_severity'].replace(['Fatal'], 'Serious')\n",
    "\n",
    "y_encoded = LabelEncoder().fit_transform(y)\n",
    "X_encoded = X.copy()\n",
    "for col in X.columns:\n",
    "    if X[col].dtype == np.dtype('O'):\n",
    "        X_encoded[col] = LabelEncoder().fit_transform(X[col])\n",
    "    if X[col].dtype == np.dtype('int64') or X[col].dtype == np.dtype('float64'):\n",
    "        X_encoded[col] = StandardScaler().fit_transform(X[col].values.reshape(-1,1))\n",
    "\n",
    "X_train, X_test, y_train, y_test = train_test_split(X_encoded, y_encoded, test_size=0.2, random_state=1, stratify=y_encoded)"
   ]
  },
  {
   "cell_type": "code",
   "execution_count": 28,
   "id": "c7d979ee",
   "metadata": {},
   "outputs": [
    {
     "name": "stdout",
     "output_type": "stream",
     "text": [
      "      0     1\n",
      "0  2001  1999\n",
      "1  1420  2780\n",
      "                     0            1  accuracy    macro avg  weighted avg\n",
      "precision     0.584917     0.581712  0.583049     0.583314      0.583275\n",
      "recall        0.500250     0.661905  0.583049     0.581077      0.583049\n",
      "f1-score      0.539280     0.619223  0.583049     0.579252      0.580226\n",
      "support    4000.000000  4200.000000  0.583049  8200.000000   8200.000000\n",
      "Accuracy: 58.30%\n"
     ]
    },
    {
     "data": {
      "text/plain": [
       "<Figure size 432x288 with 0 Axes>"
      ]
     },
     "metadata": {},
     "output_type": "display_data"
    }
   ],
   "source": [
    "RF = Classifier(\"RF\", models[\"RF\"], X_train, y_train, X_test, y_test)\n",
    "RF.run_classification()"
   ]
  },
  {
   "cell_type": "code",
   "execution_count": 29,
   "id": "d0f62237",
   "metadata": {},
   "outputs": [
    {
     "data": {
      "image/png": "[encoded data removed]",
      "text/plain": [
       "<Figure size 720x720 with 1 Axes>"
      ]
     },
     "metadata": {
      "needs_background": "light"
     },
     "output_type": "display_data"
    }
   ],
   "source": [
    "feature_importances = pd.DataFrame([{feature: importance for feature, importance in zip(X.columns, RF.clf.feature_importances_)}])\n",
    "feature_importances = feature_importances.T.sort_values(by=0, ascending=False).rename(columns={0:\"importance_value\"})\n",
    "feature_importances[\"importance_value\"]\n",
    "\n",
    "# Increase the width\n",
    "plt.figure(figsize=(10,10))\n",
    "plt.barh(feature_importances.index, feature_importances.importance_value)\n",
    "plt.xticks(rotation=90)\n",
    "plt.savefig(path + \"RF_first_feature_importance.png\")\n"
   ]
  },
  {
   "cell_type": "code",
   "execution_count": 30,
   "id": "c4c94273",
   "metadata": {},
   "outputs": [
    {
     "data": {
      "text/plain": [
       "Index(['speed_limit', 'latitude', 'hour', 'longitude', 'urban_or_rural_area',\n",
       "       'road_type', 'junction_detail', 'year', 'light_conditions', 'month',\n",
       "       'weather_conditions', 'day', '1st_road_class', 'junction_control',\n",
       "       'time', 'pedestrian_crossing-physical_facilities',\n",
       "       'road_surface_conditions', 'special_conditions_at_site',\n",
       "       'carriageway_hazards', 'pedestrian_crossing-human_control'],\n",
       "      dtype='object')"
      ]
     },
     "execution_count": 30,
     "metadata": {},
     "output_type": "execute_result"
    }
   ],
   "source": [
    "feature_importances.index"
   ]
  },
  {
   "cell_type": "markdown",
   "id": "44f22d89",
   "metadata": {},
   "source": [
    "### Speed limit was shown to be the most contributing factor to the prediction of accident severity. Location factors such as the urban or rural area is also very important, in fact the feature \"pedestrian human control\" is not that relevant according as its importance value can be neglected compared to other areas. We will then drop carriageway hazards and special conditions at site for the same prior reason.  "
   ]
  },
  {
   "cell_type": "code",
   "execution_count": 31,
   "id": "3f7a420a",
   "metadata": {},
   "outputs": [
    {
     "data": {
      "text/plain": [
       "Index(['accident_severity', 'year', 'month', 'hour', '1st_road_class',\n",
       "       'carriageway_hazards', 'junction_control', 'day', 'junction_detail',\n",
       "       'light_conditions', 'road_surface_conditions', 'road_type',\n",
       "       'special_conditions_at_site', 'speed_limit', 'time',\n",
       "       'urban_or_rural_area', 'weather_conditions', 'latitude', 'longitude',\n",
       "       'pedestrian_crossing-human_control',\n",
       "       'pedestrian_crossing-physical_facilities'],\n",
       "      dtype='object')"
      ]
     },
     "execution_count": 31,
     "metadata": {},
     "output_type": "execute_result"
    }
   ],
   "source": [
    "df.columns"
   ]
  },
  {
   "cell_type": "code",
   "execution_count": 32,
   "id": "18692d9f",
   "metadata": {},
   "outputs": [],
   "source": [
    "df = pd.read_csv(\"./results/0_data_cleaning/dataset.csv\")\n",
    "grp = df.groupby(\"accident_severity\")\n",
    "df_serious = grp.get_group(\"Serious\")\n",
    "df_slight = grp.get_group(\"Slight\")\n",
    "df = pd.concat([df_serious.sample(20000), df_slight.sample(21000)])\n",
    "df = df.drop(columns=[\n",
    "    \"id\", \n",
    "    \"number_of_casualties\", \n",
    "    \"number_of_vehicles\"\n",
    "])\n",
    "\n",
    "X = df.drop('accident_severity',axis=1)\n",
    "y = df['accident_severity'].replace(['Fatal'], 'Serious')\n",
    "\n",
    "y_encoded = LabelEncoder().fit_transform(y)\n",
    "X_encoded = X.copy()\n",
    "for col in X.columns:\n",
    "    if X[col].dtype == np.dtype('O'):\n",
    "        X_encoded[col] = LabelEncoder().fit_transform(X[col])\n",
    "    if X[col].dtype == np.dtype('int64') or X[col].dtype == np.dtype('float64'):\n",
    "        X_encoded[col] = StandardScaler().fit_transform(X[col].values.reshape(-1,1))\n",
    "\n",
    "X_train, X_test, y_train, y_test = train_test_split(X_encoded, y_encoded, test_size=0.2, random_state=1, stratify=y_encoded)"
   ]
  },
  {
   "cell_type": "code",
   "execution_count": 33,
   "id": "0bc12e29",
   "metadata": {},
   "outputs": [
    {
     "name": "stdout",
     "output_type": "stream",
     "text": [
      "      0     1\n",
      "0  2006  1994\n",
      "1  1383  2817\n",
      "                     0            1  accuracy    macro avg  weighted avg\n",
      "precision     0.591915     0.585533  0.588171     0.588724      0.588646\n",
      "recall        0.501500     0.670714  0.588171     0.586107      0.588171\n",
      "f1-score      0.542969     0.625236  0.588171     0.584103      0.585106\n",
      "support    4000.000000  4200.000000  0.588171  8200.000000   8200.000000\n",
      "Accuracy: 58.82%\n"
     ]
    },
    {
     "data": {
      "text/plain": [
       "<Figure size 432x288 with 0 Axes>"
      ]
     },
     "metadata": {},
     "output_type": "display_data"
    }
   ],
   "source": [
    "RF = Classifier(\"RF\", models[\"RF\"], X_train, y_train, X_test, y_test)\n",
    "RF.run_classification()"
   ]
  },
  {
   "cell_type": "code",
   "execution_count": 34,
   "id": "bb9b001e",
   "metadata": {},
   "outputs": [
    {
     "data": {
      "image/png": "[encoded data removed]",
      "text/plain": [
       "<Figure size 720x720 with 1 Axes>"
      ]
     },
     "metadata": {
      "needs_background": "light"
     },
     "output_type": "display_data"
    }
   ],
   "source": [
    "feature_importances = pd.DataFrame([{feature: importance for feature, importance in zip(X.columns, RF.clf.feature_importances_)}])\n",
    "feature_importances = feature_importances.T.sort_values(by=0, ascending=False).rename(columns={0:\"importance_value\"})\n",
    "feature_importances[\"importance_value\"]\n",
    "\n",
    "# Increase the width\n",
    "plt.figure(figsize=(10,10))\n",
    "plt.barh(feature_importances.index, feature_importances.importance_value)\n",
    "plt.xticks(rotation=90)\n",
    "plt.savefig(path + \"RF_second_feature_importance.png\")\n"
   ]
  },
  {
   "cell_type": "code",
   "execution_count": 35,
   "id": "f80f661b",
   "metadata": {},
   "outputs": [],
   "source": [
    "df =  pd.read_csv(\"./results/0_data_cleaning/train_dataset.csv\")"
   ]
  },
  {
   "cell_type": "code",
   "execution_count": 36,
   "id": "c78c4951",
   "metadata": {},
   "outputs": [
    {
     "name": "stdout",
     "output_type": "stream",
     "text": [
      "(24693, 15) (45000, 15)\n"
     ]
    }
   ],
   "source": [
    "grp = df.groupby(\"accident_severity\")\n",
    "df_serious = grp.get_group(\"Serious\")\n",
    "df_slight = grp.get_group(\"Slight\")\n",
    "print(df_serious.shape, df_slight.shape)"
   ]
  },
  {
   "cell_type": "code",
   "execution_count": 37,
   "id": "cb97cf0d",
   "metadata": {},
   "outputs": [],
   "source": [
    "X = df.drop(['accident_severity'], axis=1)\n",
    "y = df['accident_severity'].replace(['Fatal'], 'Serious')"
   ]
  },
  {
   "cell_type": "code",
   "execution_count": 38,
   "id": "41e38dd8",
   "metadata": {},
   "outputs": [
    {
     "data": {
      "text/plain": [
       "0        Serious\n",
       "1        Serious\n",
       "2        Serious\n",
       "3        Serious\n",
       "4        Serious\n",
       "          ...   \n",
       "96057    Serious\n",
       "96058    Serious\n",
       "96059    Serious\n",
       "96060    Serious\n",
       "96061    Serious\n",
       "Name: accident_severity, Length: 96062, dtype: object"
      ]
     },
     "execution_count": 38,
     "metadata": {},
     "output_type": "execute_result"
    }
   ],
   "source": [
    "y"
   ]
  },
  {
   "cell_type": "code",
   "execution_count": 39,
   "id": "ecce07b7",
   "metadata": {},
   "outputs": [],
   "source": [
    "y_encoded = LabelEncoder().fit_transform(y)\n",
    "X_encoded = X.copy()\n",
    "for col in X.columns:\n",
    "    if X[col].dtype == np.dtype('O'):\n",
    "        X_encoded[col] = LabelEncoder().fit_transform(X[col])\n",
    "    if X[col].dtype == np.dtype('int64') or X[col].dtype == np.dtype('float64'):\n",
    "        X_encoded[col] = StandardScaler().fit_transform(X[col].values.reshape(-1,1))\n",
    "\n",
    "X_train, X_test, y_train, y_test = train_test_split(X_encoded, y_encoded, test_size=0.2, random_state=1, stratify=y_encoded)"
   ]
  },
  {
   "cell_type": "markdown",
   "id": "36abb2ce",
   "metadata": {},
   "source": [
    "# Test of multiple algorithms"
   ]
  },
  {
   "cell_type": "code",
   "execution_count": null,
   "id": "ba098522",
   "metadata": {},
   "outputs": [],
   "source": [
    "fitted_classifiers = {}\n",
    "results = []\n",
    "for name, clf in models.items():\n",
    "    clf = Classifier(name, clf, X_train, y_train, X_test, y_test)\n",
    "    clf.run_classification()\n",
    "    clf.save_results()\n",
    "    results.append(clf.results)\n",
    "    fitted_classifiers[name] = clf\n",
    "\n",
    "df_results = pd.DataFrame(results)\n",
    "df_results.to_csv(path + \"ML_classifiers_comparison.csv\") \n",
    "df_results"
   ]
  },
  {
   "cell_type": "code",
   "execution_count": null,
   "id": "11fdfa51",
   "metadata": {},
   "outputs": [],
   "source": [
    "RF = Classifier(\"RF\", clf, X_train, y_train, X_test, y_test)"
   ]
  },
  {
   "cell_type": "markdown",
   "id": "42efe845",
   "metadata": {},
   "source": [
    "# Hyperparameter optimization"
   ]
  },
  {
   "cell_type": "code",
   "execution_count": null,
   "id": "0c071ba4",
   "metadata": {},
   "outputs": [],
   "source": [
    "RF = models[\"RF\"]\n",
    "\n",
    "def get_model():\n",
    "    return RF\n",
    "\n",
    "def get_hyperparams():\n",
    "    return {\n",
    "    'bootstrap': [True],\n",
    "    'max_depth': [80, 90, 100, 110],\n",
    "    'max_features': [2, 3],\n",
    "    'min_samples_leaf': [3, 4, 5],\n",
    "    'min_samples_split': [8, 10, 12],\n",
    "    'n_estimators': [100, 200, 300, 1000]\n",
    "}"
   ]
  },
  {
   "cell_type": "code",
   "execution_count": null,
   "id": "7ad6712b",
   "metadata": {},
   "outputs": [],
   "source": [
    "from skopt import BayesSearchCV\n",
    "\n",
    "search_parameters = {\n",
    "    \"cv\": 3,\n",
    "    \"verbose\": 0,\n",
    "    \"scoring\": 'f1_macro',\n",
    "    \"n_iter\": 20,\n",
    "    \"random_state\": 42\n",
    "}\n",
    "bs = BayesSearchCV(get_model(), get_hyperparams(), **search_parameters)\n",
    "bs.fit(X_train, y_train)"
   ]
  },
  {
   "cell_type": "code",
   "execution_count": null,
   "id": "11f1cc0f",
   "metadata": {},
   "outputs": [],
   "source": [
    "print(bs.best_params_)\n",
    "best = bs.best_estimator_\n",
    "best.fit(X_train, y_train)\n",
    "y_pred = best.predict(X_test)"
   ]
  },
  {
   "cell_type": "code",
   "execution_count": null,
   "id": "d80dc140",
   "metadata": {
    "scrolled": false
   },
   "outputs": [],
   "source": []
  }
 ],
 "metadata": {
  "kernelspec": {
   "display_name": "Python 3",
   "language": "python",
   "name": "python3"
  },
  "language_info": {
   "codemirror_mode": {
    "name": "ipython",
    "version": 3
   },
   "file_extension": ".py",
   "mimetype": "text/x-python",
   "name": "python",
   "nbconvert_exporter": "python",
   "pygments_lexer": "ipython3",
   "version": "3.8.8"
  }
 },
 "nbformat": 4,
 "nbformat_minor": 5
}
